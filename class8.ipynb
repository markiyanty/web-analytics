{
  "nbformat": 4,
  "nbformat_minor": 0,
  "metadata": {
    "colab": {
      "provenance": []
    },
    "kernelspec": {
      "name": "python3",
      "display_name": "Python 3"
    },
    "language_info": {
      "name": "python"
    }
  },
  "cells": [
    {
      "cell_type": "code",
      "execution_count": null,
      "metadata": {
        "id": "RUcUrURFceUy"
      },
      "outputs": [],
      "source": [
        "import pandas as pd\n",
        "import numpy as np\n",
        "import seaborn as sns\n",
        "import scipy.stats as st\n",
        "from statsmodels.stats.weightstats import ztest, zconfint\n",
        "from statsmodels.stats.proportion import proportions_ztest"
      ]
    },
    {
      "cell_type": "code",
      "source": [
        "data = pd.read_csv('train.csv')"
      ],
      "metadata": {
        "id": "_y97PVWsd8jt"
      },
      "execution_count": null,
      "outputs": []
    },
    {
      "cell_type": "code",
      "source": [
        "data"
      ],
      "metadata": {
        "colab": {
          "base_uri": "https://localhost:8080/",
          "height": 947
        },
        "id": "yzlCGoc512Lt",
        "outputId": "97cf9f4f-55b6-4c47-a04a-bca245e9080a"
      },
      "execution_count": null,
      "outputs": [
        {
          "output_type": "execute_result",
          "data": {
            "text/plain": [
              "     PassengerId  Survived  Pclass  \\\n",
              "0              1         0       3   \n",
              "1              2         1       1   \n",
              "2              3         1       3   \n",
              "3              4         1       1   \n",
              "4              5         0       3   \n",
              "..           ...       ...     ...   \n",
              "886          887         0       2   \n",
              "887          888         1       1   \n",
              "888          889         0       3   \n",
              "889          890         1       1   \n",
              "890          891         0       3   \n",
              "\n",
              "                                                  Name     Sex   Age  SibSp  \\\n",
              "0                              Braund, Mr. Owen Harris    male  22.0      1   \n",
              "1    Cumings, Mrs. John Bradley (Florence Briggs Th...  female  38.0      1   \n",
              "2                               Heikkinen, Miss. Laina  female  26.0      0   \n",
              "3         Futrelle, Mrs. Jacques Heath (Lily May Peel)  female  35.0      1   \n",
              "4                             Allen, Mr. William Henry    male  35.0      0   \n",
              "..                                                 ...     ...   ...    ...   \n",
              "886                              Montvila, Rev. Juozas    male  27.0      0   \n",
              "887                       Graham, Miss. Margaret Edith  female  19.0      0   \n",
              "888           Johnston, Miss. Catherine Helen \"Carrie\"  female   NaN      1   \n",
              "889                              Behr, Mr. Karl Howell    male  26.0      0   \n",
              "890                                Dooley, Mr. Patrick    male  32.0      0   \n",
              "\n",
              "     Parch            Ticket     Fare Cabin Embarked  \n",
              "0        0         A/5 21171   7.2500   NaN        S  \n",
              "1        0          PC 17599  71.2833   C85        C  \n",
              "2        0  STON/O2. 3101282   7.9250   NaN        S  \n",
              "3        0            113803  53.1000  C123        S  \n",
              "4        0            373450   8.0500   NaN        S  \n",
              "..     ...               ...      ...   ...      ...  \n",
              "886      0            211536  13.0000   NaN        S  \n",
              "887      0            112053  30.0000   B42        S  \n",
              "888      2        W./C. 6607  23.4500   NaN        S  \n",
              "889      0            111369  30.0000  C148        C  \n",
              "890      0            370376   7.7500   NaN        Q  \n",
              "\n",
              "[891 rows x 12 columns]"
            ],
            "text/html": [
              "\n",
              "  <div id=\"df-8f39a2c7-9b52-4167-b097-89cb01cffdb9\" class=\"colab-df-container\">\n",
              "    <div>\n",
              "<style scoped>\n",
              "    .dataframe tbody tr th:only-of-type {\n",
              "        vertical-align: middle;\n",
              "    }\n",
              "\n",
              "    .dataframe tbody tr th {\n",
              "        vertical-align: top;\n",
              "    }\n",
              "\n",
              "    .dataframe thead th {\n",
              "        text-align: right;\n",
              "    }\n",
              "</style>\n",
              "<table border=\"1\" class=\"dataframe\">\n",
              "  <thead>\n",
              "    <tr style=\"text-align: right;\">\n",
              "      <th></th>\n",
              "      <th>PassengerId</th>\n",
              "      <th>Survived</th>\n",
              "      <th>Pclass</th>\n",
              "      <th>Name</th>\n",
              "      <th>Sex</th>\n",
              "      <th>Age</th>\n",
              "      <th>SibSp</th>\n",
              "      <th>Parch</th>\n",
              "      <th>Ticket</th>\n",
              "      <th>Fare</th>\n",
              "      <th>Cabin</th>\n",
              "      <th>Embarked</th>\n",
              "    </tr>\n",
              "  </thead>\n",
              "  <tbody>\n",
              "    <tr>\n",
              "      <th>0</th>\n",
              "      <td>1</td>\n",
              "      <td>0</td>\n",
              "      <td>3</td>\n",
              "      <td>Braund, Mr. Owen Harris</td>\n",
              "      <td>male</td>\n",
              "      <td>22.0</td>\n",
              "      <td>1</td>\n",
              "      <td>0</td>\n",
              "      <td>A/5 21171</td>\n",
              "      <td>7.2500</td>\n",
              "      <td>NaN</td>\n",
              "      <td>S</td>\n",
              "    </tr>\n",
              "    <tr>\n",
              "      <th>1</th>\n",
              "      <td>2</td>\n",
              "      <td>1</td>\n",
              "      <td>1</td>\n",
              "      <td>Cumings, Mrs. John Bradley (Florence Briggs Th...</td>\n",
              "      <td>female</td>\n",
              "      <td>38.0</td>\n",
              "      <td>1</td>\n",
              "      <td>0</td>\n",
              "      <td>PC 17599</td>\n",
              "      <td>71.2833</td>\n",
              "      <td>C85</td>\n",
              "      <td>C</td>\n",
              "    </tr>\n",
              "    <tr>\n",
              "      <th>2</th>\n",
              "      <td>3</td>\n",
              "      <td>1</td>\n",
              "      <td>3</td>\n",
              "      <td>Heikkinen, Miss. Laina</td>\n",
              "      <td>female</td>\n",
              "      <td>26.0</td>\n",
              "      <td>0</td>\n",
              "      <td>0</td>\n",
              "      <td>STON/O2. 3101282</td>\n",
              "      <td>7.9250</td>\n",
              "      <td>NaN</td>\n",
              "      <td>S</td>\n",
              "    </tr>\n",
              "    <tr>\n",
              "      <th>3</th>\n",
              "      <td>4</td>\n",
              "      <td>1</td>\n",
              "      <td>1</td>\n",
              "      <td>Futrelle, Mrs. Jacques Heath (Lily May Peel)</td>\n",
              "      <td>female</td>\n",
              "      <td>35.0</td>\n",
              "      <td>1</td>\n",
              "      <td>0</td>\n",
              "      <td>113803</td>\n",
              "      <td>53.1000</td>\n",
              "      <td>C123</td>\n",
              "      <td>S</td>\n",
              "    </tr>\n",
              "    <tr>\n",
              "      <th>4</th>\n",
              "      <td>5</td>\n",
              "      <td>0</td>\n",
              "      <td>3</td>\n",
              "      <td>Allen, Mr. William Henry</td>\n",
              "      <td>male</td>\n",
              "      <td>35.0</td>\n",
              "      <td>0</td>\n",
              "      <td>0</td>\n",
              "      <td>373450</td>\n",
              "      <td>8.0500</td>\n",
              "      <td>NaN</td>\n",
              "      <td>S</td>\n",
              "    </tr>\n",
              "    <tr>\n",
              "      <th>...</th>\n",
              "      <td>...</td>\n",
              "      <td>...</td>\n",
              "      <td>...</td>\n",
              "      <td>...</td>\n",
              "      <td>...</td>\n",
              "      <td>...</td>\n",
              "      <td>...</td>\n",
              "      <td>...</td>\n",
              "      <td>...</td>\n",
              "      <td>...</td>\n",
              "      <td>...</td>\n",
              "      <td>...</td>\n",
              "    </tr>\n",
              "    <tr>\n",
              "      <th>886</th>\n",
              "      <td>887</td>\n",
              "      <td>0</td>\n",
              "      <td>2</td>\n",
              "      <td>Montvila, Rev. Juozas</td>\n",
              "      <td>male</td>\n",
              "      <td>27.0</td>\n",
              "      <td>0</td>\n",
              "      <td>0</td>\n",
              "      <td>211536</td>\n",
              "      <td>13.0000</td>\n",
              "      <td>NaN</td>\n",
              "      <td>S</td>\n",
              "    </tr>\n",
              "    <tr>\n",
              "      <th>887</th>\n",
              "      <td>888</td>\n",
              "      <td>1</td>\n",
              "      <td>1</td>\n",
              "      <td>Graham, Miss. Margaret Edith</td>\n",
              "      <td>female</td>\n",
              "      <td>19.0</td>\n",
              "      <td>0</td>\n",
              "      <td>0</td>\n",
              "      <td>112053</td>\n",
              "      <td>30.0000</td>\n",
              "      <td>B42</td>\n",
              "      <td>S</td>\n",
              "    </tr>\n",
              "    <tr>\n",
              "      <th>888</th>\n",
              "      <td>889</td>\n",
              "      <td>0</td>\n",
              "      <td>3</td>\n",
              "      <td>Johnston, Miss. Catherine Helen \"Carrie\"</td>\n",
              "      <td>female</td>\n",
              "      <td>NaN</td>\n",
              "      <td>1</td>\n",
              "      <td>2</td>\n",
              "      <td>W./C. 6607</td>\n",
              "      <td>23.4500</td>\n",
              "      <td>NaN</td>\n",
              "      <td>S</td>\n",
              "    </tr>\n",
              "    <tr>\n",
              "      <th>889</th>\n",
              "      <td>890</td>\n",
              "      <td>1</td>\n",
              "      <td>1</td>\n",
              "      <td>Behr, Mr. Karl Howell</td>\n",
              "      <td>male</td>\n",
              "      <td>26.0</td>\n",
              "      <td>0</td>\n",
              "      <td>0</td>\n",
              "      <td>111369</td>\n",
              "      <td>30.0000</td>\n",
              "      <td>C148</td>\n",
              "      <td>C</td>\n",
              "    </tr>\n",
              "    <tr>\n",
              "      <th>890</th>\n",
              "      <td>891</td>\n",
              "      <td>0</td>\n",
              "      <td>3</td>\n",
              "      <td>Dooley, Mr. Patrick</td>\n",
              "      <td>male</td>\n",
              "      <td>32.0</td>\n",
              "      <td>0</td>\n",
              "      <td>0</td>\n",
              "      <td>370376</td>\n",
              "      <td>7.7500</td>\n",
              "      <td>NaN</td>\n",
              "      <td>Q</td>\n",
              "    </tr>\n",
              "  </tbody>\n",
              "</table>\n",
              "<p>891 rows × 12 columns</p>\n",
              "</div>\n",
              "    <div class=\"colab-df-buttons\">\n",
              "\n",
              "  <div class=\"colab-df-container\">\n",
              "    <button class=\"colab-df-convert\" onclick=\"convertToInteractive('df-8f39a2c7-9b52-4167-b097-89cb01cffdb9')\"\n",
              "            title=\"Convert this dataframe to an interactive table.\"\n",
              "            style=\"display:none;\">\n",
              "\n",
              "  <svg xmlns=\"http://www.w3.org/2000/svg\" height=\"24px\" viewBox=\"0 -960 960 960\">\n",
              "    <path d=\"M120-120v-720h720v720H120Zm60-500h600v-160H180v160Zm220 220h160v-160H400v160Zm0 220h160v-160H400v160ZM180-400h160v-160H180v160Zm440 0h160v-160H620v160ZM180-180h160v-160H180v160Zm440 0h160v-160H620v160Z\"/>\n",
              "  </svg>\n",
              "    </button>\n",
              "\n",
              "  <style>\n",
              "    .colab-df-container {\n",
              "      display:flex;\n",
              "      gap: 12px;\n",
              "    }\n",
              "\n",
              "    .colab-df-convert {\n",
              "      background-color: #E8F0FE;\n",
              "      border: none;\n",
              "      border-radius: 50%;\n",
              "      cursor: pointer;\n",
              "      display: none;\n",
              "      fill: #1967D2;\n",
              "      height: 32px;\n",
              "      padding: 0 0 0 0;\n",
              "      width: 32px;\n",
              "    }\n",
              "\n",
              "    .colab-df-convert:hover {\n",
              "      background-color: #E2EBFA;\n",
              "      box-shadow: 0px 1px 2px rgba(60, 64, 67, 0.3), 0px 1px 3px 1px rgba(60, 64, 67, 0.15);\n",
              "      fill: #174EA6;\n",
              "    }\n",
              "\n",
              "    .colab-df-buttons div {\n",
              "      margin-bottom: 4px;\n",
              "    }\n",
              "\n",
              "    [theme=dark] .colab-df-convert {\n",
              "      background-color: #3B4455;\n",
              "      fill: #D2E3FC;\n",
              "    }\n",
              "\n",
              "    [theme=dark] .colab-df-convert:hover {\n",
              "      background-color: #434B5C;\n",
              "      box-shadow: 0px 1px 3px 1px rgba(0, 0, 0, 0.15);\n",
              "      filter: drop-shadow(0px 1px 2px rgba(0, 0, 0, 0.3));\n",
              "      fill: #FFFFFF;\n",
              "    }\n",
              "  </style>\n",
              "\n",
              "    <script>\n",
              "      const buttonEl =\n",
              "        document.querySelector('#df-8f39a2c7-9b52-4167-b097-89cb01cffdb9 button.colab-df-convert');\n",
              "      buttonEl.style.display =\n",
              "        google.colab.kernel.accessAllowed ? 'block' : 'none';\n",
              "\n",
              "      async function convertToInteractive(key) {\n",
              "        const element = document.querySelector('#df-8f39a2c7-9b52-4167-b097-89cb01cffdb9');\n",
              "        const dataTable =\n",
              "          await google.colab.kernel.invokeFunction('convertToInteractive',\n",
              "                                                    [key], {});\n",
              "        if (!dataTable) return;\n",
              "\n",
              "        const docLinkHtml = 'Like what you see? Visit the ' +\n",
              "          '<a target=\"_blank\" href=https://colab.research.google.com/notebooks/data_table.ipynb>data table notebook</a>'\n",
              "          + ' to learn more about interactive tables.';\n",
              "        element.innerHTML = '';\n",
              "        dataTable['output_type'] = 'display_data';\n",
              "        await google.colab.output.renderOutput(dataTable, element);\n",
              "        const docLink = document.createElement('div');\n",
              "        docLink.innerHTML = docLinkHtml;\n",
              "        element.appendChild(docLink);\n",
              "      }\n",
              "    </script>\n",
              "  </div>\n",
              "\n",
              "\n",
              "<div id=\"df-b8c31d77-6ccd-4978-a3b7-b17860eea8e7\">\n",
              "  <button class=\"colab-df-quickchart\" onclick=\"quickchart('df-b8c31d77-6ccd-4978-a3b7-b17860eea8e7')\"\n",
              "            title=\"Suggest charts\"\n",
              "            style=\"display:none;\">\n",
              "\n",
              "<svg xmlns=\"http://www.w3.org/2000/svg\" height=\"24px\"viewBox=\"0 0 24 24\"\n",
              "     width=\"24px\">\n",
              "    <g>\n",
              "        <path d=\"M19 3H5c-1.1 0-2 .9-2 2v14c0 1.1.9 2 2 2h14c1.1 0 2-.9 2-2V5c0-1.1-.9-2-2-2zM9 17H7v-7h2v7zm4 0h-2V7h2v10zm4 0h-2v-4h2v4z\"/>\n",
              "    </g>\n",
              "</svg>\n",
              "  </button>\n",
              "\n",
              "<style>\n",
              "  .colab-df-quickchart {\n",
              "      --bg-color: #E8F0FE;\n",
              "      --fill-color: #1967D2;\n",
              "      --hover-bg-color: #E2EBFA;\n",
              "      --hover-fill-color: #174EA6;\n",
              "      --disabled-fill-color: #AAA;\n",
              "      --disabled-bg-color: #DDD;\n",
              "  }\n",
              "\n",
              "  [theme=dark] .colab-df-quickchart {\n",
              "      --bg-color: #3B4455;\n",
              "      --fill-color: #D2E3FC;\n",
              "      --hover-bg-color: #434B5C;\n",
              "      --hover-fill-color: #FFFFFF;\n",
              "      --disabled-bg-color: #3B4455;\n",
              "      --disabled-fill-color: #666;\n",
              "  }\n",
              "\n",
              "  .colab-df-quickchart {\n",
              "    background-color: var(--bg-color);\n",
              "    border: none;\n",
              "    border-radius: 50%;\n",
              "    cursor: pointer;\n",
              "    display: none;\n",
              "    fill: var(--fill-color);\n",
              "    height: 32px;\n",
              "    padding: 0;\n",
              "    width: 32px;\n",
              "  }\n",
              "\n",
              "  .colab-df-quickchart:hover {\n",
              "    background-color: var(--hover-bg-color);\n",
              "    box-shadow: 0 1px 2px rgba(60, 64, 67, 0.3), 0 1px 3px 1px rgba(60, 64, 67, 0.15);\n",
              "    fill: var(--button-hover-fill-color);\n",
              "  }\n",
              "\n",
              "  .colab-df-quickchart-complete:disabled,\n",
              "  .colab-df-quickchart-complete:disabled:hover {\n",
              "    background-color: var(--disabled-bg-color);\n",
              "    fill: var(--disabled-fill-color);\n",
              "    box-shadow: none;\n",
              "  }\n",
              "\n",
              "  .colab-df-spinner {\n",
              "    border: 2px solid var(--fill-color);\n",
              "    border-color: transparent;\n",
              "    border-bottom-color: var(--fill-color);\n",
              "    animation:\n",
              "      spin 1s steps(1) infinite;\n",
              "  }\n",
              "\n",
              "  @keyframes spin {\n",
              "    0% {\n",
              "      border-color: transparent;\n",
              "      border-bottom-color: var(--fill-color);\n",
              "      border-left-color: var(--fill-color);\n",
              "    }\n",
              "    20% {\n",
              "      border-color: transparent;\n",
              "      border-left-color: var(--fill-color);\n",
              "      border-top-color: var(--fill-color);\n",
              "    }\n",
              "    30% {\n",
              "      border-color: transparent;\n",
              "      border-left-color: var(--fill-color);\n",
              "      border-top-color: var(--fill-color);\n",
              "      border-right-color: var(--fill-color);\n",
              "    }\n",
              "    40% {\n",
              "      border-color: transparent;\n",
              "      border-right-color: var(--fill-color);\n",
              "      border-top-color: var(--fill-color);\n",
              "    }\n",
              "    60% {\n",
              "      border-color: transparent;\n",
              "      border-right-color: var(--fill-color);\n",
              "    }\n",
              "    80% {\n",
              "      border-color: transparent;\n",
              "      border-right-color: var(--fill-color);\n",
              "      border-bottom-color: var(--fill-color);\n",
              "    }\n",
              "    90% {\n",
              "      border-color: transparent;\n",
              "      border-bottom-color: var(--fill-color);\n",
              "    }\n",
              "  }\n",
              "</style>\n",
              "\n",
              "  <script>\n",
              "    async function quickchart(key) {\n",
              "      const quickchartButtonEl =\n",
              "        document.querySelector('#' + key + ' button');\n",
              "      quickchartButtonEl.disabled = true;  // To prevent multiple clicks.\n",
              "      quickchartButtonEl.classList.add('colab-df-spinner');\n",
              "      try {\n",
              "        const charts = await google.colab.kernel.invokeFunction(\n",
              "            'suggestCharts', [key], {});\n",
              "      } catch (error) {\n",
              "        console.error('Error during call to suggestCharts:', error);\n",
              "      }\n",
              "      quickchartButtonEl.classList.remove('colab-df-spinner');\n",
              "      quickchartButtonEl.classList.add('colab-df-quickchart-complete');\n",
              "    }\n",
              "    (() => {\n",
              "      let quickchartButtonEl =\n",
              "        document.querySelector('#df-b8c31d77-6ccd-4978-a3b7-b17860eea8e7 button');\n",
              "      quickchartButtonEl.style.display =\n",
              "        google.colab.kernel.accessAllowed ? 'block' : 'none';\n",
              "    })();\n",
              "  </script>\n",
              "</div>\n",
              "    </div>\n",
              "  </div>\n"
            ],
            "application/vnd.google.colaboratory.intrinsic+json": {
              "type": "dataframe",
              "variable_name": "data",
              "summary": "{\n  \"name\": \"data\",\n  \"rows\": 891,\n  \"fields\": [\n    {\n      \"column\": \"PassengerId\",\n      \"properties\": {\n        \"dtype\": \"number\",\n        \"std\": 257,\n        \"min\": 1,\n        \"max\": 891,\n        \"num_unique_values\": 891,\n        \"samples\": [\n          710,\n          440,\n          841\n        ],\n        \"semantic_type\": \"\",\n        \"description\": \"\"\n      }\n    },\n    {\n      \"column\": \"Survived\",\n      \"properties\": {\n        \"dtype\": \"number\",\n        \"std\": 0,\n        \"min\": 0,\n        \"max\": 1,\n        \"num_unique_values\": 2,\n        \"samples\": [\n          1,\n          0\n        ],\n        \"semantic_type\": \"\",\n        \"description\": \"\"\n      }\n    },\n    {\n      \"column\": \"Pclass\",\n      \"properties\": {\n        \"dtype\": \"number\",\n        \"std\": 0,\n        \"min\": 1,\n        \"max\": 3,\n        \"num_unique_values\": 3,\n        \"samples\": [\n          3,\n          1\n        ],\n        \"semantic_type\": \"\",\n        \"description\": \"\"\n      }\n    },\n    {\n      \"column\": \"Name\",\n      \"properties\": {\n        \"dtype\": \"string\",\n        \"num_unique_values\": 891,\n        \"samples\": [\n          \"Moubarek, Master. Halim Gonios (\\\"William George\\\")\",\n          \"Kvillner, Mr. Johan Henrik Johannesson\"\n        ],\n        \"semantic_type\": \"\",\n        \"description\": \"\"\n      }\n    },\n    {\n      \"column\": \"Sex\",\n      \"properties\": {\n        \"dtype\": \"category\",\n        \"num_unique_values\": 2,\n        \"samples\": [\n          \"female\",\n          \"male\"\n        ],\n        \"semantic_type\": \"\",\n        \"description\": \"\"\n      }\n    },\n    {\n      \"column\": \"Age\",\n      \"properties\": {\n        \"dtype\": \"number\",\n        \"std\": 14.526497332334042,\n        \"min\": 0.42,\n        \"max\": 80.0,\n        \"num_unique_values\": 88,\n        \"samples\": [\n          0.75,\n          22.0\n        ],\n        \"semantic_type\": \"\",\n        \"description\": \"\"\n      }\n    },\n    {\n      \"column\": \"SibSp\",\n      \"properties\": {\n        \"dtype\": \"number\",\n        \"std\": 1,\n        \"min\": 0,\n        \"max\": 8,\n        \"num_unique_values\": 7,\n        \"samples\": [\n          1,\n          0\n        ],\n        \"semantic_type\": \"\",\n        \"description\": \"\"\n      }\n    },\n    {\n      \"column\": \"Parch\",\n      \"properties\": {\n        \"dtype\": \"number\",\n        \"std\": 0,\n        \"min\": 0,\n        \"max\": 6,\n        \"num_unique_values\": 7,\n        \"samples\": [\n          0,\n          1\n        ],\n        \"semantic_type\": \"\",\n        \"description\": \"\"\n      }\n    },\n    {\n      \"column\": \"Ticket\",\n      \"properties\": {\n        \"dtype\": \"string\",\n        \"num_unique_values\": 681,\n        \"samples\": [\n          \"11774\",\n          \"248740\"\n        ],\n        \"semantic_type\": \"\",\n        \"description\": \"\"\n      }\n    },\n    {\n      \"column\": \"Fare\",\n      \"properties\": {\n        \"dtype\": \"number\",\n        \"std\": 49.6934285971809,\n        \"min\": 0.0,\n        \"max\": 512.3292,\n        \"num_unique_values\": 248,\n        \"samples\": [\n          11.2417,\n          51.8625\n        ],\n        \"semantic_type\": \"\",\n        \"description\": \"\"\n      }\n    },\n    {\n      \"column\": \"Cabin\",\n      \"properties\": {\n        \"dtype\": \"category\",\n        \"num_unique_values\": 147,\n        \"samples\": [\n          \"D45\",\n          \"B49\"\n        ],\n        \"semantic_type\": \"\",\n        \"description\": \"\"\n      }\n    },\n    {\n      \"column\": \"Embarked\",\n      \"properties\": {\n        \"dtype\": \"category\",\n        \"num_unique_values\": 3,\n        \"samples\": [\n          \"S\",\n          \"C\"\n        ],\n        \"semantic_type\": \"\",\n        \"description\": \"\"\n      }\n    }\n  ]\n}"
            }
          },
          "metadata": {},
          "execution_count": 4
        }
      ]
    },
    {
      "cell_type": "code",
      "source": [],
      "metadata": {
        "id": "WjTgKdU-28ym"
      },
      "execution_count": null,
      "outputs": []
    },
    {
      "cell_type": "markdown",
      "source": [
        "H_0: mean_f == mean_m"
      ],
      "metadata": {
        "id": "wqMGTvNv29jh"
      }
    },
    {
      "cell_type": "markdown",
      "source": [
        "H1: mean_f!= mean_m"
      ],
      "metadata": {
        "id": "UGoFtNl_3OOr"
      }
    },
    {
      "cell_type": "markdown",
      "source": [
        "level of significance alpha: 0.05"
      ],
      "metadata": {
        "id": "LM7jcjwa2DcO"
      }
    },
    {
      "cell_type": "code",
      "source": [],
      "metadata": {
        "id": "nyGhiULd3gjM"
      },
      "execution_count": null,
      "outputs": []
    },
    {
      "cell_type": "markdown",
      "source": [
        "p-value = P(data | H_0 is True)"
      ],
      "metadata": {
        "id": "pSYewaj23iJx"
      }
    },
    {
      "cell_type": "markdown",
      "source": [
        "2-tailed z-test"
      ],
      "metadata": {
        "id": "x7hDcUw636Hj"
      }
    },
    {
      "cell_type": "markdown",
      "source": [
        "![image.png](data:image/png;base64,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)"
      ],
      "metadata": {
        "id": "SqARnM7X4BJz"
      }
    },
    {
      "cell_type": "code",
      "source": [],
      "metadata": {
        "id": "cnoCfe144COk"
      },
      "execution_count": null,
      "outputs": []
    },
    {
      "cell_type": "code",
      "source": [],
      "metadata": {
        "id": "oeWHuS4p3vPf"
      },
      "execution_count": null,
      "outputs": []
    },
    {
      "cell_type": "code",
      "source": [
        "data_filtered = data[data.Age.notna()]"
      ],
      "metadata": {
        "id": "q3cvjVO74NTs"
      },
      "execution_count": null,
      "outputs": []
    },
    {
      "cell_type": "code",
      "source": [
        "males_survived = data_filtered[(data_filtered['Survived']==1)&(data_filtered.Sex=='male')]\n",
        "females_survived = data_filtered[(data_filtered['Survived']==1)&(data_filtered.Sex=='female')]"
      ],
      "metadata": {
        "id": "yBhoaQvR4jZd"
      },
      "execution_count": null,
      "outputs": []
    },
    {
      "cell_type": "code",
      "source": [
        "males_survived.sample(10).Age.mean()"
      ],
      "metadata": {
        "colab": {
          "base_uri": "https://localhost:8080/"
        },
        "id": "VPxjUQWV5SpF",
        "outputId": "d899fb77-836d-49fc-c946-cc88df200f80"
      },
      "execution_count": null,
      "outputs": [
        {
          "output_type": "execute_result",
          "data": {
            "text/plain": [
              "39.3"
            ]
          },
          "metadata": {},
          "execution_count": 13
        }
      ]
    },
    {
      "cell_type": "code",
      "source": [
        "n_sample = 100\n",
        "sample_size = 60\n",
        "male_sample_means = []\n",
        "female_sample_means = []\n",
        "\n",
        "for _ in range(n_sample):\n",
        "  _m_mean = males_survived.sample(sample_size).Age.mean()\n",
        "  male_sample_means.append(_m_mean)\n",
        "\n",
        "  _f_mean = females_survived.sample(sample_size).Age.mean()\n",
        "  female_sample_means.append(_f_mean)"
      ],
      "metadata": {
        "id": "kCr2H10r48NK"
      },
      "execution_count": null,
      "outputs": []
    },
    {
      "cell_type": "code",
      "source": [
        "sns.histplot(male_sample_means)"
      ],
      "metadata": {
        "colab": {
          "base_uri": "https://localhost:8080/",
          "height": 448
        },
        "id": "immNegHn5sYr",
        "outputId": "d95501db-32a9-48aa-e1ab-3668460dcfcb"
      },
      "execution_count": null,
      "outputs": [
        {
          "output_type": "execute_result",
          "data": {
            "text/plain": [
              "<Axes: ylabel='Count'>"
            ]
          },
          "metadata": {},
          "execution_count": 20
        },
        {
          "output_type": "display_data",
          "data": {
            "text/plain": [
              "<Figure size 640x480 with 1 Axes>"
            ],
            "image/png": "[encoded data removed]"
          },
          "metadata": {}
        }
      ]
    },
    {
      "cell_type": "code",
      "source": [
        "sns.histplot(female_sample_means)"
      ],
      "metadata": {
        "colab": {
          "base_uri": "https://localhost:8080/",
          "height": 448
        },
        "id": "RRiZlYnH5yJ7",
        "outputId": "d95d4581-8afb-4150-f59b-27bfaa75e490"
      },
      "execution_count": null,
      "outputs": [
        {
          "output_type": "execute_result",
          "data": {
            "text/plain": [
              "<Axes: ylabel='Count'>"
            ]
          },
          "metadata": {},
          "execution_count": 21
        },
        {
          "output_type": "display_data",
          "data": {
            "text/plain": [
              "<Figure size 640x480 with 1 Axes>"
            ],
            "image/png": "[encoded data removed]"
          },
          "metadata": {}
        }
      ]
    },
    {
      "cell_type": "code",
      "source": [
        "z_score = (males_survived.Age.mean() - females_survived.Age.mean()) / np.sqrt(males_survived.Age.var() / len(males_survived) + females_survived.Age.var()/ len(females_survived))\n",
        "z_score"
      ],
      "metadata": {
        "colab": {
          "base_uri": "https://localhost:8080/"
        },
        "id": "Wd15JePk6CzA",
        "outputId": "e1d4469c-27f8-4416-afc0-630c92731c75"
      },
      "execution_count": null,
      "outputs": [
        {
          "output_type": "execute_result",
          "data": {
            "text/plain": [
              "-0.7908966227702466"
            ]
          },
          "metadata": {},
          "execution_count": 29
        }
      ]
    },
    {
      "cell_type": "code",
      "source": [
        "p_value = st.norm.sf(abs(z_score)) * 2"
      ],
      "metadata": {
        "id": "mUGoGnAE7zBD"
      },
      "execution_count": null,
      "outputs": []
    },
    {
      "cell_type": "code",
      "source": [
        "p_value"
      ],
      "metadata": {
        "colab": {
          "base_uri": "https://localhost:8080/"
        },
        "id": "UN-glgFp8V7Q",
        "outputId": "dc7d96d0-bfa3-483e-e8a1-22d57ae8f427"
      },
      "execution_count": null,
      "outputs": [
        {
          "output_type": "execute_result",
          "data": {
            "text/plain": [
              "0.429004319331695"
            ]
          },
          "metadata": {},
          "execution_count": 34
        }
      ]
    },
    {
      "cell_type": "code",
      "source": [],
      "metadata": {
        "id": "SxKSh_kF8bbk"
      },
      "execution_count": null,
      "outputs": []
    },
    {
      "cell_type": "code",
      "source": [
        "z_score_lib, p_val_lib = ztest(x1=males_survived.Age, x2=females_survived.Age, alternative='two-sided', usevar='unequal')"
      ],
      "metadata": {
        "id": "zlHfnzzO8nij"
      },
      "execution_count": null,
      "outputs": []
    },
    {
      "cell_type": "code",
      "source": [
        "z_score_lib, p_val_lib"
      ],
      "metadata": {
        "colab": {
          "base_uri": "https://localhost:8080/"
        },
        "id": "Jhxodi5Z941k",
        "outputId": "9787724d-2790-4bd0-f952-0dbdc6ecffba"
      },
      "execution_count": null,
      "outputs": [
        {
          "output_type": "execute_result",
          "data": {
            "text/plain": [
              "(-0.7908966227702466, 0.429004319331695)"
            ]
          },
          "metadata": {},
          "execution_count": 39
        }
      ]
    },
    {
      "cell_type": "code",
      "source": [],
      "metadata": {
        "id": "54YltC0H99GL"
      },
      "execution_count": null,
      "outputs": []
    },
    {
      "cell_type": "code",
      "source": [],
      "metadata": {
        "id": "uTuW_hpt-M6M"
      },
      "execution_count": null,
      "outputs": []
    },
    {
      "cell_type": "markdown",
      "source": [
        "Greater than 50% of passengers who survived in Titanic are in the age group of 20-50"
      ],
      "metadata": {
        "id": "IWaig1rI-dwh"
      }
    },
    {
      "cell_type": "markdown",
      "source": [
        "H_0: proportion_survived < 0.5"
      ],
      "metadata": {
        "id": "SSJMdza--Ofc"
      }
    },
    {
      "cell_type": "markdown",
      "source": [
        "H_1: proportion_survived > 0.5"
      ],
      "metadata": {
        "id": "Qa4ClOpA-cN2"
      }
    },
    {
      "cell_type": "code",
      "source": [],
      "metadata": {
        "id": "2ccg_e0d-mcM"
      },
      "execution_count": null,
      "outputs": []
    },
    {
      "cell_type": "markdown",
      "source": [
        "alpha = 0.05"
      ],
      "metadata": {
        "id": "uK_s5JwQ-p6G"
      }
    },
    {
      "cell_type": "code",
      "source": [
        "survived_all = data_filtered[data_filtered.Survived==1]\n",
        "n_survived = len(survived_all)"
      ],
      "metadata": {
        "id": "z6xv09R0-rxo"
      },
      "execution_count": null,
      "outputs": []
    },
    {
      "cell_type": "code",
      "source": [
        "survived_all_in_age_20_50 = survived_all[(survived_all.Age >= 20) & (survived_all.Age <= 50)]\n",
        "n_survived_all_in_age_20_50 = len(survived_all_in_age_20_50)"
      ],
      "metadata": {
        "id": "ptw4lf_x-_g2"
      },
      "execution_count": null,
      "outputs": []
    },
    {
      "cell_type": "code",
      "source": [
        "n_survived_all_in_age_20_50"
      ],
      "metadata": {
        "colab": {
          "base_uri": "https://localhost:8080/"
        },
        "id": "F4i1g0deD0x2",
        "outputId": "28390481-a7ea-4ba0-9bfb-7ca3c6f4cf4a"
      },
      "execution_count": null,
      "outputs": [
        {
          "output_type": "execute_result",
          "data": {
            "text/plain": [
              "189"
            ]
          },
          "metadata": {},
          "execution_count": 43
        }
      ]
    },
    {
      "cell_type": "code",
      "source": [
        "proportion = n_survived_all_in_age_20_50 / n_survived"
      ],
      "metadata": {
        "id": "CNRFPfHW-4kl"
      },
      "execution_count": null,
      "outputs": []
    },
    {
      "cell_type": "code",
      "source": [
        "proportion"
      ],
      "metadata": {
        "colab": {
          "base_uri": "https://localhost:8080/"
        },
        "id": "7kd3Xt5Q_cD6",
        "outputId": "8d6f7aad-6936-4802-a8fe-4cc319d357e8"
      },
      "execution_count": null,
      "outputs": [
        {
          "output_type": "execute_result",
          "data": {
            "text/plain": [
              "0.6517241379310345"
            ]
          },
          "metadata": {},
          "execution_count": 45
        }
      ]
    },
    {
      "cell_type": "code",
      "source": [],
      "metadata": {
        "id": "az_N8ZUP_fg-"
      },
      "execution_count": null,
      "outputs": []
    },
    {
      "cell_type": "markdown",
      "source": [
        "p-val = P(data | H_0 is True)"
      ],
      "metadata": {
        "id": "tIpSSjPJ_izK"
      }
    },
    {
      "cell_type": "code",
      "source": [
        "n_survived"
      ],
      "metadata": {
        "colab": {
          "base_uri": "https://localhost:8080/"
        },
        "id": "Dfs5oy9gBBij",
        "outputId": "cd453a57-9ae7-48c7-9762-17166b921af7"
      },
      "execution_count": null,
      "outputs": [
        {
          "output_type": "execute_result",
          "data": {
            "text/plain": [
              "290"
            ]
          },
          "metadata": {},
          "execution_count": 41
        }
      ]
    },
    {
      "cell_type": "markdown",
      "source": [
        "sqrt(p*(1-p)/n)"
      ],
      "metadata": {
        "id": "hezmdGOu5ufl"
      }
    },
    {
      "cell_type": "code",
      "source": [],
      "metadata": {
        "id": "bjn4sRRq5uLp"
      },
      "execution_count": null,
      "outputs": []
    },
    {
      "cell_type": "code",
      "source": [
        "se = np.sqrt(0.5*(1-0.5)/n_survived)\n",
        "se"
      ],
      "metadata": {
        "colab": {
          "base_uri": "https://localhost:8080/"
        },
        "id": "vD9IMo2E2c6J",
        "outputId": "90eb46a4-352a-4865-b2de-93091cb18180"
      },
      "execution_count": null,
      "outputs": [
        {
          "output_type": "execute_result",
          "data": {
            "text/plain": [
              "0.029361010975735173"
            ]
          },
          "metadata": {},
          "execution_count": 47
        }
      ]
    },
    {
      "cell_type": "code",
      "source": [
        "z_score = (proportion - 0.5) / np.sqrt(0.5 * (1-0.5)) / np.sqrt(290)"
      ],
      "metadata": {
        "id": "cFHfAsfEATRZ"
      },
      "execution_count": null,
      "outputs": []
    },
    {
      "cell_type": "code",
      "source": [],
      "metadata": {
        "id": "mqbQwpNk58FN"
      },
      "execution_count": null,
      "outputs": []
    },
    {
      "cell_type": "code",
      "source": [
        "z_score = (proportion - 0.5) / se"
      ],
      "metadata": {
        "id": "uV6Ddy2r2mf8"
      },
      "execution_count": null,
      "outputs": []
    },
    {
      "cell_type": "code",
      "source": [
        "z_score"
      ],
      "metadata": {
        "colab": {
          "base_uri": "https://localhost:8080/"
        },
        "id": "Twhgv1itA8VN",
        "outputId": "750a83e2-2bdf-465b-8de8-f72e4a3e7cfb"
      },
      "execution_count": null,
      "outputs": [
        {
          "output_type": "execute_result",
          "data": {
            "text/plain": [
              "5.16753793172939"
            ]
          },
          "metadata": {},
          "execution_count": 53
        }
      ]
    },
    {
      "cell_type": "code",
      "source": [
        "p_value = st.norm.sf(abs(z_score))"
      ],
      "metadata": {
        "id": "KBNxGuC-Bo5Z"
      },
      "execution_count": null,
      "outputs": []
    },
    {
      "cell_type": "code",
      "source": [
        "p_value"
      ],
      "metadata": {
        "colab": {
          "base_uri": "https://localhost:8080/"
        },
        "id": "OH7Tz98mB7R_",
        "outputId": "5a08ca6d-b2d4-45ec-ad6b-259fb7ea7afa"
      },
      "execution_count": null,
      "outputs": [
        {
          "output_type": "execute_result",
          "data": {
            "text/plain": [
              "1.1859891906705019e-07"
            ]
          },
          "metadata": {},
          "execution_count": 54
        }
      ]
    },
    {
      "cell_type": "code",
      "source": [],
      "metadata": {
        "id": "8o_1N4sGDB7P"
      },
      "execution_count": null,
      "outputs": []
    },
    {
      "cell_type": "code",
      "source": [
        "z_score_lib, p_value_lib = proportions_ztest(count=n_survived_all_in_age_20_50, nobs=n_survived, value=0.5, alternative='larger', prop_var=0.5)"
      ],
      "metadata": {
        "id": "QjmblXrHDKKU"
      },
      "execution_count": null,
      "outputs": []
    },
    {
      "cell_type": "code",
      "source": [
        "z_score_lib, p_value_lib"
      ],
      "metadata": {
        "colab": {
          "base_uri": "https://localhost:8080/"
        },
        "id": "Ya6XHiKpEvfj",
        "outputId": "9254d8ce-6883-4f25-da08-1e6e4ae5cf8f"
      },
      "execution_count": null,
      "outputs": [
        {
          "output_type": "execute_result",
          "data": {
            "text/plain": [
              "(5.16753793172939, 1.1859891906705019e-07)"
            ]
          },
          "metadata": {},
          "execution_count": 56
        }
      ]
    }
  ]
}