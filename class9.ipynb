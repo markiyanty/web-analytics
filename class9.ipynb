{
  "nbformat": 4,
  "nbformat_minor": 0,
  "metadata": {
    "colab": {
      "provenance": []
    },
    "kernelspec": {
      "name": "python3",
      "display_name": "Python 3"
    },
    "language_info": {
      "name": "python"
    }
  },
  "cells": [
    {
      "cell_type": "code",
      "execution_count": null,
      "metadata": {
        "id": "PETJr2CJ21ez"
      },
      "outputs": [],
      "source": [
        "import pandas as pd\n",
        "import numpy as np\n",
        "import scipy.stats as st\n",
        "from statsmodels.stats.proportion import proportions_ztest"
      ]
    },
    {
      "cell_type": "code",
      "source": [
        "data=pd.read_csv('online_edu.csv')"
      ],
      "metadata": {
        "id": "u2_a7loh3VlQ"
      },
      "execution_count": null,
      "outputs": []
    },
    {
      "cell_type": "code",
      "source": [
        "data"
      ],
      "metadata": {
        "colab": {
          "base_uri": "https://localhost:8080/",
          "height": 721
        },
        "id": "kfdkbKjX7UqJ",
        "outputId": "85343ff2-7483-4576-d837-ef7305ca4888"
      },
      "execution_count": null,
      "outputs": [
        {
          "output_type": "execute_result",
          "data": {
            "text/plain": [
              "      Gender Home Location Level of Education  Age(Years)  Number of Subjects  \\\n",
              "0       Male         Urban     Under Graduate          18                  11   \n",
              "1       Male         Urban     Under Graduate          19                   7   \n",
              "2       Male         Rural     Under Graduate          18                   5   \n",
              "3       Male         Urban     Under Graduate          18                   5   \n",
              "4       Male         Rural     Under Graduate          18                   5   \n",
              "...      ...           ...                ...         ...                 ...   \n",
              "1028  Female         Rural     Under Graduate          19                   3   \n",
              "1029  Female         Rural     Under Graduate          20                   6   \n",
              "1030  Female         Rural     Under Graduate          20                   3   \n",
              "1031  Female         Rural     Under Graduate          19                   6   \n",
              "1032  Female         Urban     Under Graduate          20                   6   \n",
              "\n",
              "     Device type used to attend classes Economic status  Family size  \\\n",
              "0                                Laptop    Middle Class            4   \n",
              "1                                Laptop    Middle Class            4   \n",
              "2                                Laptop    Middle Class            5   \n",
              "3                                Laptop    Middle Class            4   \n",
              "4                                Laptop    Middle Class            4   \n",
              "...                                 ...             ...          ...   \n",
              "1028                             Mobile    Middle Class            6   \n",
              "1029                            Desktop    Middle Class            3   \n",
              "1030                             Mobile    Middle Class            3   \n",
              "1031                             Mobile    Middle Class            2   \n",
              "1032                             Laptop    Middle Class            4   \n",
              "\n",
              "      Internet facility in your locality Are you involved in any sports?  ...  \\\n",
              "0                                      5                              No  ...   \n",
              "1                                      1                             Yes  ...   \n",
              "2                                      2                              No  ...   \n",
              "3                                      4                             Yes  ...   \n",
              "4                                      3                              No  ...   \n",
              "...                                  ...                             ...  ...   \n",
              "1028                                   5                             Yes  ...   \n",
              "1029                                   1                              No  ...   \n",
              "1030                                   2                              No  ...   \n",
              "1031                                   3                             Yes  ...   \n",
              "1032                                   3                              No  ...   \n",
              "\n",
              "     Time spent on social media (Hours)  Interested in Gaming?  \\\n",
              "0                                     1                     No   \n",
              "1                                     1                    Yes   \n",
              "2                                     1                     No   \n",
              "3                                     2                     No   \n",
              "4                                     2                    Yes   \n",
              "...                                 ...                    ...   \n",
              "1028                                  4                    Yes   \n",
              "1029                                  2                    Yes   \n",
              "1030                                  3                     No   \n",
              "1031                                  2                    Yes   \n",
              "1032                                  1                    Yes   \n",
              "\n",
              "      Have separate room for studying?  Engaged in group studies?  \\\n",
              "0                                   No                         No   \n",
              "1                                  Yes                         No   \n",
              "2                                  Yes                         No   \n",
              "3                                   No                        yes   \n",
              "4                                  Yes                        yes   \n",
              "...                                ...                        ...   \n",
              "1028                               Yes                        yes   \n",
              "1029                               Yes                         No   \n",
              "1030                               Yes                        yes   \n",
              "1031                                No                         No   \n",
              "1032                               Yes                        yes   \n",
              "\n",
              "     Average marks scored before pandemic in traditional classroom  \\\n",
              "0                                                91-100              \n",
              "1                                                91-100              \n",
              "2                                                 71-80              \n",
              "3                                                91-100              \n",
              "4                                                 81-90              \n",
              "...                                                 ...              \n",
              "1028                                             91-100              \n",
              "1029                                              71-80              \n",
              "1030                                              71-80              \n",
              "1031                                              61-70              \n",
              "1032                                              81-90              \n",
              "\n",
              "     Your interaction in online mode  \\\n",
              "0                                  1   \n",
              "1                                  1   \n",
              "2                                  1   \n",
              "3                                  1   \n",
              "4                                  3   \n",
              "...                              ...   \n",
              "1028                               4   \n",
              "1029                               5   \n",
              "1030                               2   \n",
              "1031                               3   \n",
              "1032                               5   \n",
              "\n",
              "     Clearing doubts with faculties in online mode Interested in?  \\\n",
              "0                                                1      Practical   \n",
              "1                                                1         Theory   \n",
              "2                                                1           Both   \n",
              "3                                                2         Theory   \n",
              "4                                                3           Both   \n",
              "...                                            ...            ...   \n",
              "1028                                             4         Theory   \n",
              "1029                                             5         Theory   \n",
              "1030                                             2         Theory   \n",
              "1031                                             3           Both   \n",
              "1032                                             4      Practical   \n",
              "\n",
              "      Performance in online  Your level of satisfaction in Online Education  \n",
              "0                         6                                         Average  \n",
              "1                         3                                             Bad  \n",
              "2                         6                                             Bad  \n",
              "3                         4                                             Bad  \n",
              "4                         6                                         Average  \n",
              "...                     ...                                             ...  \n",
              "1028                      8                                         Average  \n",
              "1029                     10                                         Average  \n",
              "1030                      6                                         Average  \n",
              "1031                      6                                            Good  \n",
              "1032                     10                                         Average  \n",
              "\n",
              "[1033 rows x 23 columns]"
            ],
            "text/html": [
              "\n",
              "  <div id=\"df-119785ff-66b4-4a20-b30a-8e19ffadee40\" class=\"colab-df-container\">\n",
              "    <div>\n",
              "<style scoped>\n",
              "    .dataframe tbody tr th:only-of-type {\n",
              "        vertical-align: middle;\n",
              "    }\n",
              "\n",
              "    .dataframe tbody tr th {\n",
              "        vertical-align: top;\n",
              "    }\n",
              "\n",
              "    .dataframe thead th {\n",
              "        text-align: right;\n",
              "    }\n",
              "</style>\n",
              "<table border=\"1\" class=\"dataframe\">\n",
              "  <thead>\n",
              "    <tr style=\"text-align: right;\">\n",
              "      <th></th>\n",
              "      <th>Gender</th>\n",
              "      <th>Home Location</th>\n",
              "      <th>Level of Education</th>\n",
              "      <th>Age(Years)</th>\n",
              "      <th>Number of Subjects</th>\n",
              "      <th>Device type used to attend classes</th>\n",
              "      <th>Economic status</th>\n",
              "      <th>Family size</th>\n",
              "      <th>Internet facility in your locality</th>\n",
              "      <th>Are you involved in any sports?</th>\n",
              "      <th>...</th>\n",
              "      <th>Time spent on social media (Hours)</th>\n",
              "      <th>Interested in Gaming?</th>\n",
              "      <th>Have separate room for studying?</th>\n",
              "      <th>Engaged in group studies?</th>\n",
              "      <th>Average marks scored before pandemic in traditional classroom</th>\n",
              "      <th>Your interaction in online mode</th>\n",
              "      <th>Clearing doubts with faculties in online mode</th>\n",
              "      <th>Interested in?</th>\n",
              "      <th>Performance in online</th>\n",
              "      <th>Your level of satisfaction in Online Education</th>\n",
              "    </tr>\n",
              "  </thead>\n",
              "  <tbody>\n",
              "    <tr>\n",
              "      <th>0</th>\n",
              "      <td>Male</td>\n",
              "      <td>Urban</td>\n",
              "      <td>Under Graduate</td>\n",
              "      <td>18</td>\n",
              "      <td>11</td>\n",
              "      <td>Laptop</td>\n",
              "      <td>Middle Class</td>\n",
              "      <td>4</td>\n",
              "      <td>5</td>\n",
              "      <td>No</td>\n",
              "      <td>...</td>\n",
              "      <td>1</td>\n",
              "      <td>No</td>\n",
              "      <td>No</td>\n",
              "      <td>No</td>\n",
              "      <td>91-100</td>\n",
              "      <td>1</td>\n",
              "      <td>1</td>\n",
              "      <td>Practical</td>\n",
              "      <td>6</td>\n",
              "      <td>Average</td>\n",
              "    </tr>\n",
              "    <tr>\n",
              "      <th>1</th>\n",
              "      <td>Male</td>\n",
              "      <td>Urban</td>\n",
              "      <td>Under Graduate</td>\n",
              "      <td>19</td>\n",
              "      <td>7</td>\n",
              "      <td>Laptop</td>\n",
              "      <td>Middle Class</td>\n",
              "      <td>4</td>\n",
              "      <td>1</td>\n",
              "      <td>Yes</td>\n",
              "      <td>...</td>\n",
              "      <td>1</td>\n",
              "      <td>Yes</td>\n",
              "      <td>Yes</td>\n",
              "      <td>No</td>\n",
              "      <td>91-100</td>\n",
              "      <td>1</td>\n",
              "      <td>1</td>\n",
              "      <td>Theory</td>\n",
              "      <td>3</td>\n",
              "      <td>Bad</td>\n",
              "    </tr>\n",
              "    <tr>\n",
              "      <th>2</th>\n",
              "      <td>Male</td>\n",
              "      <td>Rural</td>\n",
              "      <td>Under Graduate</td>\n",
              "      <td>18</td>\n",
              "      <td>5</td>\n",
              "      <td>Laptop</td>\n",
              "      <td>Middle Class</td>\n",
              "      <td>5</td>\n",
              "      <td>2</td>\n",
              "      <td>No</td>\n",
              "      <td>...</td>\n",
              "      <td>1</td>\n",
              "      <td>No</td>\n",
              "      <td>Yes</td>\n",
              "      <td>No</td>\n",
              "      <td>71-80</td>\n",
              "      <td>1</td>\n",
              "      <td>1</td>\n",
              "      <td>Both</td>\n",
              "      <td>6</td>\n",
              "      <td>Bad</td>\n",
              "    </tr>\n",
              "    <tr>\n",
              "      <th>3</th>\n",
              "      <td>Male</td>\n",
              "      <td>Urban</td>\n",
              "      <td>Under Graduate</td>\n",
              "      <td>18</td>\n",
              "      <td>5</td>\n",
              "      <td>Laptop</td>\n",
              "      <td>Middle Class</td>\n",
              "      <td>4</td>\n",
              "      <td>4</td>\n",
              "      <td>Yes</td>\n",
              "      <td>...</td>\n",
              "      <td>2</td>\n",
              "      <td>No</td>\n",
              "      <td>No</td>\n",
              "      <td>yes</td>\n",
              "      <td>91-100</td>\n",
              "      <td>1</td>\n",
              "      <td>2</td>\n",
              "      <td>Theory</td>\n",
              "      <td>4</td>\n",
              "      <td>Bad</td>\n",
              "    </tr>\n",
              "    <tr>\n",
              "      <th>4</th>\n",
              "      <td>Male</td>\n",
              "      <td>Rural</td>\n",
              "      <td>Under Graduate</td>\n",
              "      <td>18</td>\n",
              "      <td>5</td>\n",
              "      <td>Laptop</td>\n",
              "      <td>Middle Class</td>\n",
              "      <td>4</td>\n",
              "      <td>3</td>\n",
              "      <td>No</td>\n",
              "      <td>...</td>\n",
              "      <td>2</td>\n",
              "      <td>Yes</td>\n",
              "      <td>Yes</td>\n",
              "      <td>yes</td>\n",
              "      <td>81-90</td>\n",
              "      <td>3</td>\n",
              "      <td>3</td>\n",
              "      <td>Both</td>\n",
              "      <td>6</td>\n",
              "      <td>Average</td>\n",
              "    </tr>\n",
              "    <tr>\n",
              "      <th>...</th>\n",
              "      <td>...</td>\n",
              "      <td>...</td>\n",
              "      <td>...</td>\n",
              "      <td>...</td>\n",
              "      <td>...</td>\n",
              "      <td>...</td>\n",
              "      <td>...</td>\n",
              "      <td>...</td>\n",
              "      <td>...</td>\n",
              "      <td>...</td>\n",
              "      <td>...</td>\n",
              "      <td>...</td>\n",
              "      <td>...</td>\n",
              "      <td>...</td>\n",
              "      <td>...</td>\n",
              "      <td>...</td>\n",
              "      <td>...</td>\n",
              "      <td>...</td>\n",
              "      <td>...</td>\n",
              "      <td>...</td>\n",
              "      <td>...</td>\n",
              "    </tr>\n",
              "    <tr>\n",
              "      <th>1028</th>\n",
              "      <td>Female</td>\n",
              "      <td>Rural</td>\n",
              "      <td>Under Graduate</td>\n",
              "      <td>19</td>\n",
              "      <td>3</td>\n",
              "      <td>Mobile</td>\n",
              "      <td>Middle Class</td>\n",
              "      <td>6</td>\n",
              "      <td>5</td>\n",
              "      <td>Yes</td>\n",
              "      <td>...</td>\n",
              "      <td>4</td>\n",
              "      <td>Yes</td>\n",
              "      <td>Yes</td>\n",
              "      <td>yes</td>\n",
              "      <td>91-100</td>\n",
              "      <td>4</td>\n",
              "      <td>4</td>\n",
              "      <td>Theory</td>\n",
              "      <td>8</td>\n",
              "      <td>Average</td>\n",
              "    </tr>\n",
              "    <tr>\n",
              "      <th>1029</th>\n",
              "      <td>Female</td>\n",
              "      <td>Rural</td>\n",
              "      <td>Under Graduate</td>\n",
              "      <td>20</td>\n",
              "      <td>6</td>\n",
              "      <td>Desktop</td>\n",
              "      <td>Middle Class</td>\n",
              "      <td>3</td>\n",
              "      <td>1</td>\n",
              "      <td>No</td>\n",
              "      <td>...</td>\n",
              "      <td>2</td>\n",
              "      <td>Yes</td>\n",
              "      <td>Yes</td>\n",
              "      <td>No</td>\n",
              "      <td>71-80</td>\n",
              "      <td>5</td>\n",
              "      <td>5</td>\n",
              "      <td>Theory</td>\n",
              "      <td>10</td>\n",
              "      <td>Average</td>\n",
              "    </tr>\n",
              "    <tr>\n",
              "      <th>1030</th>\n",
              "      <td>Female</td>\n",
              "      <td>Rural</td>\n",
              "      <td>Under Graduate</td>\n",
              "      <td>20</td>\n",
              "      <td>3</td>\n",
              "      <td>Mobile</td>\n",
              "      <td>Middle Class</td>\n",
              "      <td>3</td>\n",
              "      <td>2</td>\n",
              "      <td>No</td>\n",
              "      <td>...</td>\n",
              "      <td>3</td>\n",
              "      <td>No</td>\n",
              "      <td>Yes</td>\n",
              "      <td>yes</td>\n",
              "      <td>71-80</td>\n",
              "      <td>2</td>\n",
              "      <td>2</td>\n",
              "      <td>Theory</td>\n",
              "      <td>6</td>\n",
              "      <td>Average</td>\n",
              "    </tr>\n",
              "    <tr>\n",
              "      <th>1031</th>\n",
              "      <td>Female</td>\n",
              "      <td>Rural</td>\n",
              "      <td>Under Graduate</td>\n",
              "      <td>19</td>\n",
              "      <td>6</td>\n",
              "      <td>Mobile</td>\n",
              "      <td>Middle Class</td>\n",
              "      <td>2</td>\n",
              "      <td>3</td>\n",
              "      <td>Yes</td>\n",
              "      <td>...</td>\n",
              "      <td>2</td>\n",
              "      <td>Yes</td>\n",
              "      <td>No</td>\n",
              "      <td>No</td>\n",
              "      <td>61-70</td>\n",
              "      <td>3</td>\n",
              "      <td>3</td>\n",
              "      <td>Both</td>\n",
              "      <td>6</td>\n",
              "      <td>Good</td>\n",
              "    </tr>\n",
              "    <tr>\n",
              "      <th>1032</th>\n",
              "      <td>Female</td>\n",
              "      <td>Urban</td>\n",
              "      <td>Under Graduate</td>\n",
              "      <td>20</td>\n",
              "      <td>6</td>\n",
              "      <td>Laptop</td>\n",
              "      <td>Middle Class</td>\n",
              "      <td>4</td>\n",
              "      <td>3</td>\n",
              "      <td>No</td>\n",
              "      <td>...</td>\n",
              "      <td>1</td>\n",
              "      <td>Yes</td>\n",
              "      <td>Yes</td>\n",
              "      <td>yes</td>\n",
              "      <td>81-90</td>\n",
              "      <td>5</td>\n",
              "      <td>4</td>\n",
              "      <td>Practical</td>\n",
              "      <td>10</td>\n",
              "      <td>Average</td>\n",
              "    </tr>\n",
              "  </tbody>\n",
              "</table>\n",
              "<p>1033 rows × 23 columns</p>\n",
              "</div>\n",
              "    <div class=\"colab-df-buttons\">\n",
              "\n",
              "  <div class=\"colab-df-container\">\n",
              "    <button class=\"colab-df-convert\" onclick=\"convertToInteractive('df-119785ff-66b4-4a20-b30a-8e19ffadee40')\"\n",
              "            title=\"Convert this dataframe to an interactive table.\"\n",
              "            style=\"display:none;\">\n",
              "\n",
              "  <svg xmlns=\"http://www.w3.org/2000/svg\" height=\"24px\" viewBox=\"0 -960 960 960\">\n",
              "    <path d=\"M120-120v-720h720v720H120Zm60-500h600v-160H180v160Zm220 220h160v-160H400v160Zm0 220h160v-160H400v160ZM180-400h160v-160H180v160Zm440 0h160v-160H620v160ZM180-180h160v-160H180v160Zm440 0h160v-160H620v160Z\"/>\n",
              "  </svg>\n",
              "    </button>\n",
              "\n",
              "  <style>\n",
              "    .colab-df-container {\n",
              "      display:flex;\n",
              "      gap: 12px;\n",
              "    }\n",
              "\n",
              "    .colab-df-convert {\n",
              "      background-color: #E8F0FE;\n",
              "      border: none;\n",
              "      border-radius: 50%;\n",
              "      cursor: pointer;\n",
              "      display: none;\n",
              "      fill: #1967D2;\n",
              "      height: 32px;\n",
              "      padding: 0 0 0 0;\n",
              "      width: 32px;\n",
              "    }\n",
              "\n",
              "    .colab-df-convert:hover {\n",
              "      background-color: #E2EBFA;\n",
              "      box-shadow: 0px 1px 2px rgba(60, 64, 67, 0.3), 0px 1px 3px 1px rgba(60, 64, 67, 0.15);\n",
              "      fill: #174EA6;\n",
              "    }\n",
              "\n",
              "    .colab-df-buttons div {\n",
              "      margin-bottom: 4px;\n",
              "    }\n",
              "\n",
              "    [theme=dark] .colab-df-convert {\n",
              "      background-color: #3B4455;\n",
              "      fill: #D2E3FC;\n",
              "    }\n",
              "\n",
              "    [theme=dark] .colab-df-convert:hover {\n",
              "      background-color: #434B5C;\n",
              "      box-shadow: 0px 1px 3px 1px rgba(0, 0, 0, 0.15);\n",
              "      filter: drop-shadow(0px 1px 2px rgba(0, 0, 0, 0.3));\n",
              "      fill: #FFFFFF;\n",
              "    }\n",
              "  </style>\n",
              "\n",
              "    <script>\n",
              "      const buttonEl =\n",
              "        document.querySelector('#df-119785ff-66b4-4a20-b30a-8e19ffadee40 button.colab-df-convert');\n",
              "      buttonEl.style.display =\n",
              "        google.colab.kernel.accessAllowed ? 'block' : 'none';\n",
              "\n",
              "      async function convertToInteractive(key) {\n",
              "        const element = document.querySelector('#df-119785ff-66b4-4a20-b30a-8e19ffadee40');\n",
              "        const dataTable =\n",
              "          await google.colab.kernel.invokeFunction('convertToInteractive',\n",
              "                                                    [key], {});\n",
              "        if (!dataTable) return;\n",
              "\n",
              "        const docLinkHtml = 'Like what you see? Visit the ' +\n",
              "          '<a target=\"_blank\" href=https://colab.research.google.com/notebooks/data_table.ipynb>data table notebook</a>'\n",
              "          + ' to learn more about interactive tables.';\n",
              "        element.innerHTML = '';\n",
              "        dataTable['output_type'] = 'display_data';\n",
              "        await google.colab.output.renderOutput(dataTable, element);\n",
              "        const docLink = document.createElement('div');\n",
              "        docLink.innerHTML = docLinkHtml;\n",
              "        element.appendChild(docLink);\n",
              "      }\n",
              "    </script>\n",
              "  </div>\n",
              "\n",
              "\n",
              "<div id=\"df-e020e6c7-b209-4063-b193-143f51d3cdf2\">\n",
              "  <button class=\"colab-df-quickchart\" onclick=\"quickchart('df-e020e6c7-b209-4063-b193-143f51d3cdf2')\"\n",
              "            title=\"Suggest charts\"\n",
              "            style=\"display:none;\">\n",
              "\n",
              "<svg xmlns=\"http://www.w3.org/2000/svg\" height=\"24px\"viewBox=\"0 0 24 24\"\n",
              "     width=\"24px\">\n",
              "    <g>\n",
              "        <path d=\"M19 3H5c-1.1 0-2 .9-2 2v14c0 1.1.9 2 2 2h14c1.1 0 2-.9 2-2V5c0-1.1-.9-2-2-2zM9 17H7v-7h2v7zm4 0h-2V7h2v10zm4 0h-2v-4h2v4z\"/>\n",
              "    </g>\n",
              "</svg>\n",
              "  </button>\n",
              "\n",
              "<style>\n",
              "  .colab-df-quickchart {\n",
              "      --bg-color: #E8F0FE;\n",
              "      --fill-color: #1967D2;\n",
              "      --hover-bg-color: #E2EBFA;\n",
              "      --hover-fill-color: #174EA6;\n",
              "      --disabled-fill-color: #AAA;\n",
              "      --disabled-bg-color: #DDD;\n",
              "  }\n",
              "\n",
              "  [theme=dark] .colab-df-quickchart {\n",
              "      --bg-color: #3B4455;\n",
              "      --fill-color: #D2E3FC;\n",
              "      --hover-bg-color: #434B5C;\n",
              "      --hover-fill-color: #FFFFFF;\n",
              "      --disabled-bg-color: #3B4455;\n",
              "      --disabled-fill-color: #666;\n",
              "  }\n",
              "\n",
              "  .colab-df-quickchart {\n",
              "    background-color: var(--bg-color);\n",
              "    border: none;\n",
              "    border-radius: 50%;\n",
              "    cursor: pointer;\n",
              "    display: none;\n",
              "    fill: var(--fill-color);\n",
              "    height: 32px;\n",
              "    padding: 0;\n",
              "    width: 32px;\n",
              "  }\n",
              "\n",
              "  .colab-df-quickchart:hover {\n",
              "    background-color: var(--hover-bg-color);\n",
              "    box-shadow: 0 1px 2px rgba(60, 64, 67, 0.3), 0 1px 3px 1px rgba(60, 64, 67, 0.15);\n",
              "    fill: var(--button-hover-fill-color);\n",
              "  }\n",
              "\n",
              "  .colab-df-quickchart-complete:disabled,\n",
              "  .colab-df-quickchart-complete:disabled:hover {\n",
              "    background-color: var(--disabled-bg-color);\n",
              "    fill: var(--disabled-fill-color);\n",
              "    box-shadow: none;\n",
              "  }\n",
              "\n",
              "  .colab-df-spinner {\n",
              "    border: 2px solid var(--fill-color);\n",
              "    border-color: transparent;\n",
              "    border-bottom-color: var(--fill-color);\n",
              "    animation:\n",
              "      spin 1s steps(1) infinite;\n",
              "  }\n",
              "\n",
              "  @keyframes spin {\n",
              "    0% {\n",
              "      border-color: transparent;\n",
              "      border-bottom-color: var(--fill-color);\n",
              "      border-left-color: var(--fill-color);\n",
              "    }\n",
              "    20% {\n",
              "      border-color: transparent;\n",
              "      border-left-color: var(--fill-color);\n",
              "      border-top-color: var(--fill-color);\n",
              "    }\n",
              "    30% {\n",
              "      border-color: transparent;\n",
              "      border-left-color: var(--fill-color);\n",
              "      border-top-color: var(--fill-color);\n",
              "      border-right-color: var(--fill-color);\n",
              "    }\n",
              "    40% {\n",
              "      border-color: transparent;\n",
              "      border-right-color: var(--fill-color);\n",
              "      border-top-color: var(--fill-color);\n",
              "    }\n",
              "    60% {\n",
              "      border-color: transparent;\n",
              "      border-right-color: var(--fill-color);\n",
              "    }\n",
              "    80% {\n",
              "      border-color: transparent;\n",
              "      border-right-color: var(--fill-color);\n",
              "      border-bottom-color: var(--fill-color);\n",
              "    }\n",
              "    90% {\n",
              "      border-color: transparent;\n",
              "      border-bottom-color: var(--fill-color);\n",
              "    }\n",
              "  }\n",
              "</style>\n",
              "\n",
              "  <script>\n",
              "    async function quickchart(key) {\n",
              "      const quickchartButtonEl =\n",
              "        document.querySelector('#' + key + ' button');\n",
              "      quickchartButtonEl.disabled = true;  // To prevent multiple clicks.\n",
              "      quickchartButtonEl.classList.add('colab-df-spinner');\n",
              "      try {\n",
              "        const charts = await google.colab.kernel.invokeFunction(\n",
              "            'suggestCharts', [key], {});\n",
              "      } catch (error) {\n",
              "        console.error('Error during call to suggestCharts:', error);\n",
              "      }\n",
              "      quickchartButtonEl.classList.remove('colab-df-spinner');\n",
              "      quickchartButtonEl.classList.add('colab-df-quickchart-complete');\n",
              "    }\n",
              "    (() => {\n",
              "      let quickchartButtonEl =\n",
              "        document.querySelector('#df-e020e6c7-b209-4063-b193-143f51d3cdf2 button');\n",
              "      quickchartButtonEl.style.display =\n",
              "        google.colab.kernel.accessAllowed ? 'block' : 'none';\n",
              "    })();\n",
              "  </script>\n",
              "</div>\n",
              "    </div>\n",
              "  </div>\n"
            ],
            "application/vnd.google.colaboratory.intrinsic+json": {
              "type": "dataframe",
              "variable_name": "data"
            }
          },
          "metadata": {},
          "execution_count": 6
        }
      ]
    },
    {
      "cell_type": "code",
      "source": [],
      "metadata": {
        "id": "RD9D6qrE7cgM"
      },
      "execution_count": null,
      "outputs": []
    },
    {
      "cell_type": "markdown",
      "source": [
        "Gaming addiction, one-sample z-test:\n",
        "H_0: YES-proportion <=0.5 <br>\n",
        "H_1: YES-proportion > 0.5"
      ],
      "metadata": {
        "id": "AYn06WbP7c-g"
      }
    },
    {
      "cell_type": "markdown",
      "source": [
        "significance level α=0.05"
      ],
      "metadata": {
        "id": "zeGqF0U07z1N"
      }
    },
    {
      "cell_type": "code",
      "source": [
        "def hypothesis_test_result(p_val, alpha=0.05):\n",
        "  if p_val < alpha:\n",
        "    print('reject H_0 in favor H_1')\n",
        "  else:\n",
        "    print('failed to reject H_0 ')"
      ],
      "metadata": {
        "id": "S4AkiqVl7tH-"
      },
      "execution_count": null,
      "outputs": []
    },
    {
      "cell_type": "code",
      "source": [
        "data['Interested in Gaming?'].value_counts()"
      ],
      "metadata": {
        "colab": {
          "base_uri": "https://localhost:8080/"
        },
        "id": "RRM7PEjb8KDT",
        "outputId": "6153cc47-6826-4f2e-cb4d-faee4fe182a9"
      },
      "execution_count": null,
      "outputs": [
        {
          "output_type": "execute_result",
          "data": {
            "text/plain": [
              "Yes    560\n",
              "No     473\n",
              "Name: Interested in Gaming?, dtype: int64"
            ]
          },
          "metadata": {},
          "execution_count": 9
        }
      ]
    },
    {
      "cell_type": "code",
      "source": [
        "data['Interested in Gaming?'].value_counts(normalize=True)"
      ],
      "metadata": {
        "colab": {
          "base_uri": "https://localhost:8080/"
        },
        "id": "qHoaA9Ux8V7Z",
        "outputId": "3e9eae06-fd92-4abd-9ec3-09d401edaac0"
      },
      "execution_count": null,
      "outputs": [
        {
          "output_type": "execute_result",
          "data": {
            "text/plain": [
              "Yes    0.54211\n",
              "No     0.45789\n",
              "Name: Interested in Gaming?, dtype: float64"
            ]
          },
          "metadata": {},
          "execution_count": 10
        }
      ]
    },
    {
      "cell_type": "code",
      "source": [
        "n = len(data)\n",
        "n"
      ],
      "metadata": {
        "colab": {
          "base_uri": "https://localhost:8080/"
        },
        "id": "luetBA5p8cbQ",
        "outputId": "1afe347c-4ca0-41f8-dd6e-45d276d83ce1"
      },
      "execution_count": null,
      "outputs": [
        {
          "output_type": "execute_result",
          "data": {
            "text/plain": [
              "1033"
            ]
          },
          "metadata": {},
          "execution_count": 11
        }
      ]
    },
    {
      "cell_type": "code",
      "source": [
        "proportion_yes = data['Interested in Gaming?'].value_counts(normalize=True)[0]"
      ],
      "metadata": {
        "id": "V4rj5vqA8jSW"
      },
      "execution_count": null,
      "outputs": []
    },
    {
      "cell_type": "code",
      "source": [
        "se = np.sqrt(proportion_yes*(1-proportion_yes)/n)\n",
        "se"
      ],
      "metadata": {
        "colab": {
          "base_uri": "https://localhost:8080/"
        },
        "id": "lG4tAVrR8no8",
        "outputId": "c107083e-9d59-442b-e6c0-dd151720f084"
      },
      "execution_count": null,
      "outputs": [
        {
          "output_type": "execute_result",
          "data": {
            "text/plain": [
              "0.015501513454948422"
            ]
          },
          "metadata": {},
          "execution_count": 15
        }
      ]
    },
    {
      "cell_type": "code",
      "source": [
        "z_score = (proportion_yes - 0.5) / se\n",
        "z_score"
      ],
      "metadata": {
        "colab": {
          "base_uri": "https://localhost:8080/"
        },
        "id": "24hy-rvS81Ox",
        "outputId": "0a5c8b10-b8ca-43ac-9fd4-be536e1553cb"
      },
      "execution_count": null,
      "outputs": [
        {
          "output_type": "execute_result",
          "data": {
            "text/plain": [
              "2.716532053624447"
            ]
          },
          "metadata": {},
          "execution_count": 16
        }
      ]
    },
    {
      "cell_type": "code",
      "source": [
        "p_val = st.norm.sf(z_score)\n",
        "p_val"
      ],
      "metadata": {
        "colab": {
          "base_uri": "https://localhost:8080/"
        },
        "id": "LvHJXurg9BB6",
        "outputId": "d4c153d0-4aba-460f-9084-a0df637a475d"
      },
      "execution_count": null,
      "outputs": [
        {
          "output_type": "execute_result",
          "data": {
            "text/plain": [
              "0.003298490342697444"
            ]
          },
          "metadata": {},
          "execution_count": 17
        }
      ]
    },
    {
      "cell_type": "code",
      "source": [],
      "metadata": {
        "id": "xWhaORVAECN5"
      },
      "execution_count": null,
      "outputs": []
    },
    {
      "cell_type": "code",
      "source": [
        "hypothesis_test_result(p_val)"
      ],
      "metadata": {
        "colab": {
          "base_uri": "https://localhost:8080/"
        },
        "id": "ymFT4nMf9Le9",
        "outputId": "b54750d9-d199-4026-dafb-3ef6fe7be0d1"
      },
      "execution_count": null,
      "outputs": [
        {
          "output_type": "stream",
          "name": "stdout",
          "text": [
            "reject H_0 in favor H_1\n"
          ]
        }
      ]
    },
    {
      "cell_type": "code",
      "source": [],
      "metadata": {
        "id": "TyKeDO_f9r6b"
      },
      "execution_count": null,
      "outputs": []
    },
    {
      "cell_type": "markdown",
      "source": [
        "group 1: Age < 20 <br>\n",
        "group 2: Age >= 20 <br>\n",
        "\n",
        "\n",
        "H_0: g1_gamers_prop == g2_gamers_prop<br>\n",
        "H_1: g1_gamers_prop != g2_gamers_prop <br>\n",
        "α = 0.05"
      ],
      "metadata": {
        "id": "JucWJMwl9sUN"
      }
    },
    {
      "cell_type": "code",
      "source": [
        "young_subset = data[data['Age(Years)'] < 20]\n",
        "adult_subset = data[data['Age(Years)'] >= 20]"
      ],
      "metadata": {
        "id": "YjWSL6VA94_t"
      },
      "execution_count": null,
      "outputs": []
    },
    {
      "cell_type": "code",
      "source": [
        "g1_gamers_prop = young_subset['Interested in Gaming?'].value_counts(normalize=True)[0]\n",
        "g2_gamers_prop = adult_subset['Interested in Gaming?'].value_counts(normalize=True)[0]"
      ],
      "metadata": {
        "id": "uoQi2yG2-cP6"
      },
      "execution_count": null,
      "outputs": []
    },
    {
      "cell_type": "code",
      "source": [
        "n1 = len(young_subset)\n",
        "n2 = len(adult_subset)"
      ],
      "metadata": {
        "id": "U9gQo19P-pt3"
      },
      "execution_count": null,
      "outputs": []
    },
    {
      "cell_type": "code",
      "source": [
        "n1"
      ],
      "metadata": {
        "colab": {
          "base_uri": "https://localhost:8080/"
        },
        "id": "VcOtAnRtALJq",
        "outputId": "a2c4fa05-6e12-4101-fd98-7ebe1dc9a075"
      },
      "execution_count": null,
      "outputs": [
        {
          "output_type": "execute_result",
          "data": {
            "text/plain": [
              "549"
            ]
          },
          "metadata": {},
          "execution_count": 24
        }
      ]
    },
    {
      "cell_type": "code",
      "source": [
        "g1_gamers_prop, g2_gamers_prop"
      ],
      "metadata": {
        "colab": {
          "base_uri": "https://localhost:8080/"
        },
        "id": "4MuRQ6aa-xWG",
        "outputId": "357795f8-3966-4d0d-c994-89320c08ddd4"
      },
      "execution_count": null,
      "outputs": [
        {
          "output_type": "execute_result",
          "data": {
            "text/plain": [
              "(0.5282331511839709, 0.5578512396694215)"
            ]
          },
          "metadata": {},
          "execution_count": 23
        }
      ]
    },
    {
      "cell_type": "code",
      "source": [],
      "metadata": {
        "id": "eCD_Tssx-8Qg"
      },
      "execution_count": null,
      "outputs": []
    },
    {
      "cell_type": "code",
      "source": [
        "# (g1_gamers_prop - g2_gamers_prop)"
      ],
      "metadata": {
        "id": "zCQ22ftI_Bnf"
      },
      "execution_count": null,
      "outputs": []
    },
    {
      "cell_type": "code",
      "source": [
        "# std(g1_gamers_prop) = sqrt(p*(1-p)/n1)\n",
        "# std(g2_gamers_prop) = sqrt(p*(1-p)/n2)\n",
        "#std(g1_gamers_prop - g2_gamers_prop) = sqrt(std_1^2 + std_2 ^2)\n",
        "# se = np.sqrt(p*(1-p)*(1/n1+1/n2))"
      ],
      "metadata": {
        "id": "Gk_TM8Cm_-H1"
      },
      "execution_count": null,
      "outputs": []
    },
    {
      "cell_type": "code",
      "source": [
        "adult_subset['Interested in Gaming?'].value_counts()[0]"
      ],
      "metadata": {
        "colab": {
          "base_uri": "https://localhost:8080/"
        },
        "id": "2ri929ycB3AB",
        "outputId": "f1f5faab-6a48-4f33-98b4-f097b3fe7d40"
      },
      "execution_count": null,
      "outputs": [
        {
          "output_type": "execute_result",
          "data": {
            "text/plain": [
              "270"
            ]
          },
          "metadata": {},
          "execution_count": 27
        }
      ]
    },
    {
      "cell_type": "code",
      "source": [
        "proportion = (young_subset['Interested in Gaming?'].value_counts()[0] + adult_subset['Interested in Gaming?'].value_counts()[0]) / (n1+n2)"
      ],
      "metadata": {
        "id": "Su1AsdtaBxfc"
      },
      "execution_count": null,
      "outputs": []
    },
    {
      "cell_type": "code",
      "source": [
        "n1, n2"
      ],
      "metadata": {
        "colab": {
          "base_uri": "https://localhost:8080/"
        },
        "id": "tKNHom07CY5Q",
        "outputId": "6c147e29-be94-47da-8ac5-7756822501a1"
      },
      "execution_count": null,
      "outputs": [
        {
          "output_type": "execute_result",
          "data": {
            "text/plain": [
              "(549, 484)"
            ]
          },
          "metadata": {},
          "execution_count": 33
        }
      ]
    },
    {
      "cell_type": "code",
      "source": [
        "proportion"
      ],
      "metadata": {
        "colab": {
          "base_uri": "https://localhost:8080/"
        },
        "id": "8y6W3QHyBCsf",
        "outputId": "c4272839-3f01-48cb-c00e-ee09a057a53c"
      },
      "execution_count": null,
      "outputs": [
        {
          "output_type": "execute_result",
          "data": {
            "text/plain": [
              "0.542110358180058"
            ]
          },
          "metadata": {},
          "execution_count": 29
        }
      ]
    },
    {
      "cell_type": "code",
      "source": [],
      "metadata": {
        "id": "D9njI0l3DG8R"
      },
      "execution_count": null,
      "outputs": []
    },
    {
      "cell_type": "code",
      "source": [
        "se = np.sqrt(proportion*(1-proportion)*(1/n1+1/n2))\n",
        "se"
      ],
      "metadata": {
        "colab": {
          "base_uri": "https://localhost:8080/"
        },
        "id": "i8lkSS-ICIkj",
        "outputId": "c96e25d9-cc0a-4d29-d620-1e1d5c7aa00a"
      },
      "execution_count": null,
      "outputs": [
        {
          "output_type": "execute_result",
          "data": {
            "text/plain": [
              "0.03106458599652595"
            ]
          },
          "metadata": {},
          "execution_count": 30
        }
      ]
    },
    {
      "cell_type": "code",
      "source": [
        "z_score = (g1_gamers_prop - g2_gamers_prop) / se\n",
        "z_score"
      ],
      "metadata": {
        "colab": {
          "base_uri": "https://localhost:8080/"
        },
        "id": "iIB9ipXV_Pom",
        "outputId": "0efec96a-0bfd-4ecb-c2c2-d44b621a745f"
      },
      "execution_count": null,
      "outputs": [
        {
          "output_type": "execute_result",
          "data": {
            "text/plain": [
              "-0.9534358027099717"
            ]
          },
          "metadata": {},
          "execution_count": 32
        }
      ]
    },
    {
      "cell_type": "code",
      "source": [
        "p_val = st.norm.sf(abs(z_score)) * 2"
      ],
      "metadata": {
        "id": "hi2h4zcIER0r"
      },
      "execution_count": null,
      "outputs": []
    },
    {
      "cell_type": "code",
      "source": [
        "hypothesis_test_result(p_val)"
      ],
      "metadata": {
        "colab": {
          "base_uri": "https://localhost:8080/"
        },
        "id": "hj4eJ10hEs1T",
        "outputId": "3cac4a52-dc78-4890-bb7f-0855e7dac0bc"
      },
      "execution_count": null,
      "outputs": [
        {
          "output_type": "stream",
          "name": "stdout",
          "text": [
            "failed to reject H_0 \n"
          ]
        }
      ]
    }
  ]
}